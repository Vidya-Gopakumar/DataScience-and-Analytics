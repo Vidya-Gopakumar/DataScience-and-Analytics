{
 "cells": [
  {
   "cell_type": "markdown",
   "id": "90c2efc4",
   "metadata": {},
   "source": [
    "# Reading data in python environment"
   ]
  },
  {
   "cell_type": "code",
   "execution_count": 1,
   "id": "c9adcfe2",
   "metadata": {},
   "outputs": [
    {
     "data": {
      "text/html": [
       "<div>\n",
       "<style scoped>\n",
       "    .dataframe tbody tr th:only-of-type {\n",
       "        vertical-align: middle;\n",
       "    }\n",
       "\n",
       "    .dataframe tbody tr th {\n",
       "        vertical-align: top;\n",
       "    }\n",
       "\n",
       "    .dataframe thead th {\n",
       "        text-align: right;\n",
       "    }\n",
       "</style>\n",
       "<table border=\"1\" class=\"dataframe\">\n",
       "  <thead>\n",
       "    <tr style=\"text-align: right;\">\n",
       "      <th></th>\n",
       "      <th>Month</th>\n",
       "      <th>Region</th>\n",
       "      <th>Manager</th>\n",
       "      <th>Sales_before_digital_add(in $)</th>\n",
       "      <th>Sales_After_digital_add(in $)</th>\n",
       "    </tr>\n",
       "  </thead>\n",
       "  <tbody>\n",
       "    <tr>\n",
       "      <th>0</th>\n",
       "      <td>Month-1</td>\n",
       "      <td>Region - A</td>\n",
       "      <td>Manager - A</td>\n",
       "      <td>132921</td>\n",
       "      <td>270390</td>\n",
       "    </tr>\n",
       "    <tr>\n",
       "      <th>1</th>\n",
       "      <td>Month-2</td>\n",
       "      <td>Region - A</td>\n",
       "      <td>Manager - C</td>\n",
       "      <td>149559</td>\n",
       "      <td>223334</td>\n",
       "    </tr>\n",
       "    <tr>\n",
       "      <th>2</th>\n",
       "      <td>Month-3</td>\n",
       "      <td>Region - B</td>\n",
       "      <td>Manager - A</td>\n",
       "      <td>146278</td>\n",
       "      <td>244243</td>\n",
       "    </tr>\n",
       "    <tr>\n",
       "      <th>3</th>\n",
       "      <td>Month-4</td>\n",
       "      <td>Region - B</td>\n",
       "      <td>Manager - B</td>\n",
       "      <td>152167</td>\n",
       "      <td>231808</td>\n",
       "    </tr>\n",
       "    <tr>\n",
       "      <th>4</th>\n",
       "      <td>Month-5</td>\n",
       "      <td>Region - C</td>\n",
       "      <td>Manager - B</td>\n",
       "      <td>159525</td>\n",
       "      <td>258402</td>\n",
       "    </tr>\n",
       "  </tbody>\n",
       "</table>\n",
       "</div>"
      ],
      "text/plain": [
       "     Month      Region      Manager  Sales_before_digital_add(in $)  \\\n",
       "0  Month-1  Region - A  Manager - A                          132921   \n",
       "1  Month-2  Region - A  Manager - C                          149559   \n",
       "2  Month-3  Region - B  Manager - A                          146278   \n",
       "3  Month-4  Region - B  Manager - B                          152167   \n",
       "4  Month-5  Region - C  Manager - B                          159525   \n",
       "\n",
       "   Sales_After_digital_add(in $)  \n",
       "0                         270390  \n",
       "1                         223334  \n",
       "2                         244243  \n",
       "3                         231808  \n",
       "4                         258402  "
      ]
     },
     "execution_count": 1,
     "metadata": {},
     "output_type": "execute_result"
    }
   ],
   "source": [
    "import pandas as pd\n",
    "data=pd.read_csv('Sales_add.csv')\n",
    "data.head()\n"
   ]
  },
  {
   "cell_type": "markdown",
   "id": "28be62ba",
   "metadata": {},
   "source": [
    "# viewing data information\n"
   ]
  },
  {
   "cell_type": "code",
   "execution_count": 2,
   "id": "805ce777",
   "metadata": {},
   "outputs": [
    {
     "name": "stdout",
     "output_type": "stream",
     "text": [
      "<class 'pandas.core.frame.DataFrame'>\n",
      "RangeIndex: 22 entries, 0 to 21\n",
      "Data columns (total 5 columns):\n",
      " #   Column                          Non-Null Count  Dtype \n",
      "---  ------                          --------------  ----- \n",
      " 0   Month                           22 non-null     object\n",
      " 1   Region                          22 non-null     object\n",
      " 2   Manager                         22 non-null     object\n",
      " 3   Sales_before_digital_add(in $)  22 non-null     int64 \n",
      " 4   Sales_After_digital_add(in $)   22 non-null     int64 \n",
      "dtypes: int64(2), object(3)\n",
      "memory usage: 1008.0+ bytes\n"
     ]
    }
   ],
   "source": [
    "data.info()"
   ]
  },
  {
   "cell_type": "markdown",
   "id": "29c50967",
   "metadata": {},
   "source": [
    "# Finding any increase in sales after digital marketing\n"
   ]
  },
  {
   "cell_type": "code",
   "execution_count": 8,
   "id": "f2cefb14",
   "metadata": {},
   "outputs": [
    {
     "data": {
      "text/plain": [
       "<matplotlib.legend.Legend at 0x26571932fd0>"
      ]
     },
     "execution_count": 8,
     "metadata": {},
     "output_type": "execute_result"
    },
    {
     "data": {
      "image/png": "[encoded data removed]",
      "text/plain": [
       "<Figure size 720x360 with 1 Axes>"
      ]
     },
     "metadata": {
      "needs_background": "light"
     },
     "output_type": "display_data"
    }
   ],
   "source": [
    "data.plot(x='Month', y=['Sales_before_digital_add(in $)', 'Sales_After_digital_add(in $)'], figsize=(10,5), grid=True)\n",
    "plt.legend( bbox_to_anchor=(1, 1))"
   ]
  },
  {
   "cell_type": "markdown",
   "id": "9cc09b4d",
   "metadata": {},
   "source": [
    "# From the visualization its clear that drastic change in sales after digital marketing"
   ]
  },
  {
   "cell_type": "markdown",
   "id": "6909d820",
   "metadata": {},
   "source": [
    "# Viewing the entire data"
   ]
  },
  {
   "cell_type": "code",
   "execution_count": 11,
   "id": "49378af3",
   "metadata": {},
   "outputs": [
    {
     "name": "stdout",
     "output_type": "stream",
     "text": [
      "       Month      Region      Manager  Sales_before_digital_add(in $)  \\\n",
      "0    Month-1  Region - A  Manager - A                          132921   \n",
      "1    Month-2  Region - A  Manager - C                          149559   \n",
      "2    Month-3  Region - B  Manager - A                          146278   \n",
      "3    Month-4  Region - B  Manager - B                          152167   \n",
      "4    Month-5  Region - C  Manager - B                          159525   \n",
      "5    Month-6  Region - A  Manager - B                          137163   \n",
      "6    Month-7  Region - C  Manager - C                          130625   \n",
      "7    Month-8  Region - A  Manager - A                          131140   \n",
      "8    Month-9  Region - B  Manager - C                          171259   \n",
      "9   Month-10  Region - C  Manager - B                          141956   \n",
      "10  Month-11  Region - B  Manager - C                          159339   \n",
      "11  Month-12  Region - A  Manager - A                          178939   \n",
      "12  Month-13  Region - B  Manager - A                          145062   \n",
      "13  Month-14  Region - A  Manager - A                          151514   \n",
      "14  Month-15  Region - C  Manager - A                          147463   \n",
      "15  Month-16  Region - A  Manager - B                          177195   \n",
      "16  Month-17  Region - A  Manager - C                          140862   \n",
      "17  Month-18  Region - C  Manager - B                          167996   \n",
      "18  Month-19  Region - B  Manager - A                          132135   \n",
      "19  Month-20  Region - A  Manager - B                          152493   \n",
      "20  Month-21  Region - B  Manager - A                          147425   \n",
      "21  Month-22  Region - A  Manager - C                          130263   \n",
      "\n",
      "    Sales_After_digital_add(in $)  \n",
      "0                          270390  \n",
      "1                          223334  \n",
      "2                          244243  \n",
      "3                          231808  \n",
      "4                          258402  \n",
      "5                          256948  \n",
      "6                          222106  \n",
      "7                          230637  \n",
      "8                          226261  \n",
      "9                          193735  \n",
      "10                         203175  \n",
      "11                         276279  \n",
      "12                         205180  \n",
      "13                         253131  \n",
      "14                         229336  \n",
      "15                         187305  \n",
      "16                         234908  \n",
      "17                         191517  \n",
      "18                         227040  \n",
      "19                         212579  \n",
      "20                         263388  \n",
      "21                         243020  \n"
     ]
    }
   ],
   "source": [
    "print(data)"
   ]
  },
  {
   "cell_type": "markdown",
   "id": "01936360",
   "metadata": {},
   "source": [
    "# A frequency table is created for finding the distribution between two categorical variables\n"
   ]
  },
  {
   "cell_type": "code",
   "execution_count": 12,
   "id": "2b704fe9",
   "metadata": {},
   "outputs": [
    {
     "data": {
      "text/html": [
       "<div>\n",
       "<style scoped>\n",
       "    .dataframe tbody tr th:only-of-type {\n",
       "        vertical-align: middle;\n",
       "    }\n",
       "\n",
       "    .dataframe tbody tr th {\n",
       "        vertical-align: top;\n",
       "    }\n",
       "\n",
       "    .dataframe thead th {\n",
       "        text-align: right;\n",
       "    }\n",
       "</style>\n",
       "<table border=\"1\" class=\"dataframe\">\n",
       "  <thead>\n",
       "    <tr style=\"text-align: right;\">\n",
       "      <th>Manager</th>\n",
       "      <th>Manager - A</th>\n",
       "      <th>Manager - B</th>\n",
       "      <th>Manager - C</th>\n",
       "    </tr>\n",
       "    <tr>\n",
       "      <th>Region</th>\n",
       "      <th></th>\n",
       "      <th></th>\n",
       "      <th></th>\n",
       "    </tr>\n",
       "  </thead>\n",
       "  <tbody>\n",
       "    <tr>\n",
       "      <th>Region - A</th>\n",
       "      <td>4</td>\n",
       "      <td>3</td>\n",
       "      <td>3</td>\n",
       "    </tr>\n",
       "    <tr>\n",
       "      <th>Region - B</th>\n",
       "      <td>4</td>\n",
       "      <td>1</td>\n",
       "      <td>2</td>\n",
       "    </tr>\n",
       "    <tr>\n",
       "      <th>Region - C</th>\n",
       "      <td>1</td>\n",
       "      <td>3</td>\n",
       "      <td>1</td>\n",
       "    </tr>\n",
       "  </tbody>\n",
       "</table>\n",
       "</div>"
      ],
      "text/plain": [
       "Manager     Manager - A  Manager - B  Manager - C\n",
       "Region                                           \n",
       "Region - A            4            3            3\n",
       "Region - B            4            1            2\n",
       "Region - C            1            3            1"
      ]
     },
     "execution_count": 12,
     "metadata": {},
     "output_type": "execute_result"
    }
   ],
   "source": [
    "pd.crosstab(data.Region,data.Manager)"
   ]
  },
  {
   "cell_type": "markdown",
   "id": "c3eea9c6",
   "metadata": {},
   "source": [
    "# output shows that manager distribution in different regions are dependent"
   ]
  },
  {
   "cell_type": "markdown",
   "id": "1fbda577",
   "metadata": {},
   "source": [
    "# performing the chi square test for finding the association.This can be  done in  using the chi2_contingency() function from the scipy.stats module. "
   ]
  },
  {
   "cell_type": "code",
   "execution_count": 14,
   "id": "4fd87171",
   "metadata": {},
   "outputs": [
    {
     "data": {
      "text/plain": [
       "(3.050566893424036,\n",
       " 0.5493991051158094,\n",
       " 4,\n",
       " array([[4.09090909, 3.18181818, 2.72727273],\n",
       "        [2.86363636, 2.22727273, 1.90909091],\n",
       "        [2.04545455, 1.59090909, 1.36363636]]))"
      ]
     },
     "execution_count": 14,
     "metadata": {},
     "output_type": "execute_result"
    }
   ],
   "source": [
    "from scipy.stats import chi2_contingency\n",
    "chi2_contingency(pd.crosstab(data.Region,data.Manager))"
   ]
  },
  {
   "cell_type": "markdown",
   "id": "994d2110",
   "metadata": {},
   "source": [
    "# second value is 0.549399... its above .05 So we can accept the test hypothesis that Region and Manager are related or dependent"
   ]
  },
  {
   "cell_type": "code",
   "execution_count": null,
   "id": "ca7946d7",
   "metadata": {},
   "outputs": [],
   "source": []
  }
 ],
 "metadata": {
  "kernelspec": {
   "display_name": "Python 3",
   "language": "python",
   "name": "python3"
  },
  "language_info": {
   "codemirror_mode": {
    "name": "ipython",
    "version": 3
   },
   "file_extension": ".py",
   "mimetype": "text/x-python",
   "name": "python",
   "nbconvert_exporter": "python",
   "pygments_lexer": "ipython3",
   "version": "3.8.8"
  }
 },
 "nbformat": 4,
 "nbformat_minor": 5
}
