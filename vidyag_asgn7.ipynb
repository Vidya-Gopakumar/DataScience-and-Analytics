{
 "cells": [
  {
   "cell_type": "markdown",
   "id": "9b5130f2",
   "metadata": {},
   "source": [
    "# Loading data in python environment"
   ]
  },
  {
   "cell_type": "code",
   "execution_count": 1,
   "id": "1ba08273",
   "metadata": {},
   "outputs": [
    {
     "name": "stdout",
     "output_type": "stream",
     "text": [
      "       Month  Zone - A  Zone - B  Zone - C  Zone - D\n",
      "0  Month - 1   1483525   1748451   1523308   2267260\n",
      "1  Month - 2   1238428   1707421   2212113   1994341\n",
      "2  Month - 3   1860771   2091194   1282374   1241600\n",
      "3  Month - 4   1871571   1759617   2290580   2252681\n",
      "4  Month - 5   1244922   1606010   1818334   1326062\n"
     ]
    }
   ],
   "source": [
    "import pandas as pd  \n",
    "mydata = pd.read_csv('Sales_data_zone_wise.csv')  \n",
    "print(mydata.head())  "
   ]
  },
  {
   "cell_type": "markdown",
   "id": "ae76bc49",
   "metadata": {},
   "source": [
    "# Checking for null values present or not "
   ]
  },
  {
   "cell_type": "code",
   "execution_count": 3,
   "id": "86ac3525",
   "metadata": {},
   "outputs": [
    {
     "data": {
      "text/plain": [
       "Month       0\n",
       "Zone - A    0\n",
       "Zone - B    0\n",
       "Zone - C    0\n",
       "Zone - D    0\n",
       "dtype: int64"
      ]
     },
     "execution_count": 3,
     "metadata": {},
     "output_type": "execute_result"
    }
   ],
   "source": [
    " nul_value=pd.isnull(mydata)\n",
    "nul_value.sum()"
   ]
  },
  {
   "cell_type": "markdown",
   "id": "84085f7a",
   "metadata": {},
   "source": [
    "# Mean sales generated my each zone using python"
   ]
  },
  {
   "cell_type": "code",
   "execution_count": 4,
   "id": "76444507",
   "metadata": {},
   "outputs": [
    {
     "name": "stdout",
     "output_type": "stream",
     "text": [
      "1540493.1379310344\n",
      "1755559.5862068965\n",
      "1772871.0344827587\n",
      "1842926.7586206896\n"
     ]
    }
   ],
   "source": [
    "print(mydata['Zone - A'].mean())\n",
    "print(mydata['Zone - B'].mean())\n",
    "print(mydata['Zone - C'].mean())\n",
    "print(mydata['Zone - D'].mean())"
   ]
  },
  {
   "cell_type": "markdown",
   "id": "b21b71bc",
   "metadata": {},
   "source": [
    "# Adding another column for storing sum of sales of each zone by month"
   ]
  },
  {
   "cell_type": "code",
   "execution_count": 7,
   "id": "16dffb14",
   "metadata": {},
   "outputs": [
    {
     "data": {
      "text/html": [
       "<div>\n",
       "<style scoped>\n",
       "    .dataframe tbody tr th:only-of-type {\n",
       "        vertical-align: middle;\n",
       "    }\n",
       "\n",
       "    .dataframe tbody tr th {\n",
       "        vertical-align: top;\n",
       "    }\n",
       "\n",
       "    .dataframe thead th {\n",
       "        text-align: right;\n",
       "    }\n",
       "</style>\n",
       "<table border=\"1\" class=\"dataframe\">\n",
       "  <thead>\n",
       "    <tr style=\"text-align: right;\">\n",
       "      <th></th>\n",
       "      <th>Month</th>\n",
       "      <th>Zone - A</th>\n",
       "      <th>Zone - B</th>\n",
       "      <th>Zone - C</th>\n",
       "      <th>Zone - D</th>\n",
       "      <th>sumof4zones</th>\n",
       "    </tr>\n",
       "  </thead>\n",
       "  <tbody>\n",
       "    <tr>\n",
       "      <th>0</th>\n",
       "      <td>Month - 1</td>\n",
       "      <td>1483525</td>\n",
       "      <td>1748451</td>\n",
       "      <td>1523308</td>\n",
       "      <td>2267260</td>\n",
       "      <td>7022544</td>\n",
       "    </tr>\n",
       "    <tr>\n",
       "      <th>1</th>\n",
       "      <td>Month - 2</td>\n",
       "      <td>1238428</td>\n",
       "      <td>1707421</td>\n",
       "      <td>2212113</td>\n",
       "      <td>1994341</td>\n",
       "      <td>7152303</td>\n",
       "    </tr>\n",
       "    <tr>\n",
       "      <th>2</th>\n",
       "      <td>Month - 3</td>\n",
       "      <td>1860771</td>\n",
       "      <td>2091194</td>\n",
       "      <td>1282374</td>\n",
       "      <td>1241600</td>\n",
       "      <td>6475939</td>\n",
       "    </tr>\n",
       "    <tr>\n",
       "      <th>3</th>\n",
       "      <td>Month - 4</td>\n",
       "      <td>1871571</td>\n",
       "      <td>1759617</td>\n",
       "      <td>2290580</td>\n",
       "      <td>2252681</td>\n",
       "      <td>8174449</td>\n",
       "    </tr>\n",
       "    <tr>\n",
       "      <th>4</th>\n",
       "      <td>Month - 5</td>\n",
       "      <td>1244922</td>\n",
       "      <td>1606010</td>\n",
       "      <td>1818334</td>\n",
       "      <td>1326062</td>\n",
       "      <td>5995328</td>\n",
       "    </tr>\n",
       "  </tbody>\n",
       "</table>\n",
       "</div>"
      ],
      "text/plain": [
       "       Month  Zone - A  Zone - B  Zone - C  Zone - D  sumof4zones\n",
       "0  Month - 1   1483525   1748451   1523308   2267260      7022544\n",
       "1  Month - 2   1238428   1707421   2212113   1994341      7152303\n",
       "2  Month - 3   1860771   2091194   1282374   1241600      6475939\n",
       "3  Month - 4   1871571   1759617   2290580   2252681      8174449\n",
       "4  Month - 5   1244922   1606010   1818334   1326062      5995328"
      ]
     },
     "execution_count": 7,
     "metadata": {},
     "output_type": "execute_result"
    }
   ],
   "source": [
    "sumofsale=(mydata['Zone - A']+mydata['Zone - B']+mydata['Zone - C']+mydata['Zone - D'])\n",
    "mydata['sumof4zones']=sumofsale\n",
    "mydata.head()"
   ]
  },
  {
   "cell_type": "markdown",
   "id": "9fc10c3e",
   "metadata": {},
   "source": [
    "# filtering sumof4zones and month into another data frame called slice_data for easier visualization"
   ]
  },
  {
   "cell_type": "code",
   "execution_count": 8,
   "id": "7c7c27ad",
   "metadata": {},
   "outputs": [
    {
     "name": "stdout",
     "output_type": "stream",
     "text": [
      "         Month  sumof4zones\n",
      "0    Month - 1      7022544\n",
      "1    Month - 2      7152303\n",
      "2    Month - 3      6475939\n",
      "3    Month - 4      8174449\n",
      "4    Month - 5      5995328\n",
      "5    Month - 6      7151387\n",
      "6    Month - 7      7287108\n",
      "7    Month - 8      7816299\n",
      "8    Month - 9      6703395\n",
      "9   Month - 10      7128210\n",
      "10  Month - 11      7032783\n",
      "11  Month - 12      6111084\n",
      "12  Month - 13      5925424\n",
      "13  Month - 14      7155515\n",
      "14  Month - 15      5934156\n",
      "15  Month - 16      6506659\n",
      "16  Month - 17      7149383\n",
      "17  Month - 18      7083490\n",
      "18  Month - 19      6971953\n",
      "19  Month - 20      7124599\n",
      "20  Month - 21      7389597\n",
      "21  Month - 22      7560001\n",
      "22  Month - 23      6687919\n",
      "23  Month - 24      7784747\n",
      "24  Month - 25      6095918\n",
      "25  Month - 26      6512360\n",
      "26  Month - 27      6267918\n",
      "27  Month - 28      7470920\n",
      "28  Month - 29      6772277\n"
     ]
    }
   ],
   "source": [
    "slice_data=mydata[['Month','sumof4zones']]\n",
    "print(slice_data)"
   ]
  },
  {
   "cell_type": "markdown",
   "id": "0da88d26",
   "metadata": {},
   "source": [
    "# Checking whether any significant difference among sales values of each zones using anova test"
   ]
  },
  {
   "cell_type": "markdown",
   "id": "25278a51",
   "metadata": {},
   "source": [
    "# Null Hypothesis – There are no significant differences among different zones sales amount."
   ]
  },
  {
   "cell_type": "markdown",
   "id": "9590cac4",
   "metadata": {},
   "source": [
    "# step 1: melt() function is used to reshape a DataFrame into a format where one or more columns are identifier variables (id_vars), while all other columns, considered measured variables (value_vars).Here measures variables are zone columns with respect to identifier variable Month coulmn"
   ]
  },
  {
   "cell_type": "code",
   "execution_count": 9,
   "id": "abbde8ed",
   "metadata": {},
   "outputs": [],
   "source": [
    "data_melt = pd.melt(mydata.reset_index(), id_vars=['Month'],value_vars=['Zone - A','Zone - B','Zone - C','Zone - D'])"
   ]
  },
  {
   "cell_type": "markdown",
   "id": "c4717e97",
   "metadata": {},
   "source": [
    "# step2:provided appropriate column names\n"
   ]
  },
  {
   "cell_type": "code",
   "execution_count": 10,
   "id": "4c676cec",
   "metadata": {},
   "outputs": [
    {
     "data": {
      "text/html": [
       "<div>\n",
       "<style scoped>\n",
       "    .dataframe tbody tr th:only-of-type {\n",
       "        vertical-align: middle;\n",
       "    }\n",
       "\n",
       "    .dataframe tbody tr th {\n",
       "        vertical-align: top;\n",
       "    }\n",
       "\n",
       "    .dataframe thead th {\n",
       "        text-align: right;\n",
       "    }\n",
       "</style>\n",
       "<table border=\"1\" class=\"dataframe\">\n",
       "  <thead>\n",
       "    <tr style=\"text-align: right;\">\n",
       "      <th></th>\n",
       "      <th>Month</th>\n",
       "      <th>treatments</th>\n",
       "      <th>sales</th>\n",
       "    </tr>\n",
       "  </thead>\n",
       "  <tbody>\n",
       "    <tr>\n",
       "      <th>0</th>\n",
       "      <td>Month - 1</td>\n",
       "      <td>Zone - A</td>\n",
       "      <td>1483525</td>\n",
       "    </tr>\n",
       "    <tr>\n",
       "      <th>1</th>\n",
       "      <td>Month - 2</td>\n",
       "      <td>Zone - A</td>\n",
       "      <td>1238428</td>\n",
       "    </tr>\n",
       "    <tr>\n",
       "      <th>2</th>\n",
       "      <td>Month - 3</td>\n",
       "      <td>Zone - A</td>\n",
       "      <td>1860771</td>\n",
       "    </tr>\n",
       "    <tr>\n",
       "      <th>3</th>\n",
       "      <td>Month - 4</td>\n",
       "      <td>Zone - A</td>\n",
       "      <td>1871571</td>\n",
       "    </tr>\n",
       "    <tr>\n",
       "      <th>4</th>\n",
       "      <td>Month - 5</td>\n",
       "      <td>Zone - A</td>\n",
       "      <td>1244922</td>\n",
       "    </tr>\n",
       "  </tbody>\n",
       "</table>\n",
       "</div>"
      ],
      "text/plain": [
       "       Month treatments    sales\n",
       "0  Month - 1   Zone - A  1483525\n",
       "1  Month - 2   Zone - A  1238428\n",
       "2  Month - 3   Zone - A  1860771\n",
       "3  Month - 4   Zone - A  1871571\n",
       "4  Month - 5   Zone - A  1244922"
      ]
     },
     "execution_count": 10,
     "metadata": {},
     "output_type": "execute_result"
    }
   ],
   "source": [
    "data_melt.columns = ['Month', 'treatments', 'sales']\n",
    "data_melt.head(5)"
   ]
  },
  {
   "cell_type": "markdown",
   "id": "10ac328c",
   "metadata": {},
   "source": [
    "# step 3: Boxplot and swarm plot are plotted to see the data distribution by treatments\n"
   ]
  },
  {
   "cell_type": "code",
   "execution_count": 16,
   "id": "3a707b60",
   "metadata": {},
   "outputs": [
    {
     "data": {
      "image/png": "[encoded data removed]",
      "text/plain": [
       "<Figure size 432x288 with 1 Axes>"
      ]
     },
     "metadata": {
      "needs_background": "light"
     },
     "output_type": "display_data"
    }
   ],
   "source": [
    "import matplotlib.pyplot as plt\n",
    "import seaborn as sns\n",
    "ax = sns.boxplot(x='treatments', y='sales', data=data_melt, color='pink')\n",
    "ax = sns.swarmplot(x='treatments', y='sales', data=data_melt, color='#7d0013')\n",
    "plt.show()"
   ]
  },
  {
   "cell_type": "markdown",
   "id": "53240e38",
   "metadata": {},
   "source": [
    "# step 4: One way anova test is performed to find f and p value to reach at interpretation,f_oneway from scipy is used for that"
   ]
  },
  {
   "cell_type": "code",
   "execution_count": 13,
   "id": "14275568",
   "metadata": {},
   "outputs": [
    {
     "name": "stdout",
     "output_type": "stream",
     "text": [
      "5.672056106843581 0.0011827601694503335\n"
     ]
    }
   ],
   "source": [
    "import scipy.stats as stats\n",
    "fvalue, pvalue = stats.f_oneway(mydata['Zone - A'], mydata['Zone - B'], mydata['Zone - C'], mydata['Zone - D'])\n",
    "print(fvalue, pvalue)"
   ]
  },
  {
   "cell_type": "markdown",
   "id": "30b71091",
   "metadata": {},
   "source": [
    "# Ordinary Least Squares (OLS) model type 2 is used for finding f and p values for comparison and to get anova table"
   ]
  },
  {
   "cell_type": "code",
   "execution_count": 14,
   "id": "81f16d40",
   "metadata": {},
   "outputs": [
    {
     "data": {
      "text/html": [
       "<div>\n",
       "<style scoped>\n",
       "    .dataframe tbody tr th:only-of-type {\n",
       "        vertical-align: middle;\n",
       "    }\n",
       "\n",
       "    .dataframe tbody tr th {\n",
       "        vertical-align: top;\n",
       "    }\n",
       "\n",
       "    .dataframe thead th {\n",
       "        text-align: right;\n",
       "    }\n",
       "</style>\n",
       "<table border=\"1\" class=\"dataframe\">\n",
       "  <thead>\n",
       "    <tr style=\"text-align: right;\">\n",
       "      <th></th>\n",
       "      <th>sum_sq</th>\n",
       "      <th>df</th>\n",
       "      <th>F</th>\n",
       "      <th>PR(&gt;F)</th>\n",
       "    </tr>\n",
       "  </thead>\n",
       "  <tbody>\n",
       "    <tr>\n",
       "      <th>C(treatments)</th>\n",
       "      <td>1.483058e+12</td>\n",
       "      <td>3.0</td>\n",
       "      <td>5.672056</td>\n",
       "      <td>0.001183</td>\n",
       "    </tr>\n",
       "    <tr>\n",
       "      <th>Residual</th>\n",
       "      <td>9.761449e+12</td>\n",
       "      <td>112.0</td>\n",
       "      <td>NaN</td>\n",
       "      <td>NaN</td>\n",
       "    </tr>\n",
       "  </tbody>\n",
       "</table>\n",
       "</div>"
      ],
      "text/plain": [
       "                     sum_sq     df         F    PR(>F)\n",
       "C(treatments)  1.483058e+12    3.0  5.672056  0.001183\n",
       "Residual       9.761449e+12  112.0       NaN       NaN"
      ]
     },
     "execution_count": 14,
     "metadata": {},
     "output_type": "execute_result"
    }
   ],
   "source": [
    "import statsmodels.api as sm\n",
    "from statsmodels.formula.api import ols\n",
    "model = ols('sales ~ C(treatments)', data=data_melt).fit()\n",
    "anova_table = sm.stats.anova_lm(model, typ=2)\n",
    "anova_table"
   ]
  },
  {
   "cell_type": "markdown",
   "id": "a9cebd4a",
   "metadata": {},
   "source": [
    "# Interpretation:\n",
    "In Both the cases p value is 0.001183 and F value is 5.6720 ie\n",
    "The p value obtained from ANOVA analysis is significant (p < 0.05) and \n",
    "F value is inversely related to p value and higher F value (greater than F critical value) indicates a significant p value.\n",
    "therefore, we can conclude that there are significant differences among treatments(different zones sales).Hence, we can reject the Null Hypothesis – there are no significant differences among different zones sales amount."
   ]
  }
 ],
 "metadata": {
  "kernelspec": {
   "display_name": "Python 3",
   "language": "python",
   "name": "python3"
  },
  "language_info": {
   "codemirror_mode": {
    "name": "ipython",
    "version": 3
   },
   "file_extension": ".py",
   "mimetype": "text/x-python",
   "name": "python",
   "nbconvert_exporter": "python",
   "pygments_lexer": "ipython3",
   "version": "3.8.8"
  }
 },
 "nbformat": 4,
 "nbformat_minor": 5
}
