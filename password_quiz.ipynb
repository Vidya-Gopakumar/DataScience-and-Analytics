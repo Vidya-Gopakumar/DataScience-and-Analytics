{
 "cells": [
  {
   "cell_type": "code",
   "execution_count": 3,
   "id": "55d53533",
   "metadata": {},
   "outputs": [
    {
     "name": "stdout",
     "output_type": "stream",
     "text": [
      "Your password is:emptycat2!\n"
     ]
    }
   ],
   "source": [
    "import random\n",
    "\n",
    "adjectives=['attractive', 'burly', 'clean', 'dusty','absent', 'broken', 'careful', 'dead','ancient', 'brief', 'concurrent', 'daily'\n",
    "             'sleepy', 'empty','annoying', 'brave', 'complex', 'dizzy']\n",
    "nouns=['boy','girl','monkey','dog','cat','ship','park','pug','tiger','lion','grandma','grandpa','uncle','aunt','puppy','lawyer','doctor','tower','bridge','street','road']\n",
    "\n",
    "number=[0,1,2,3,4,5,6,7,8,9]\n",
    "symbols=['!','#','?','%','$']\n",
    "rand_adj=random.choice(adjectives)\n",
    "rand_noun=random.choice(nouns)\n",
    "rand_number=random.choice(number)\n",
    "rand_symbols=random.choice(symbols)\n",
    "pwd=[]\n",
    "pwd.append(rand_adj)\n",
    "pwd.append(rand_noun)\n",
    "pwd.append(rand_number)\n",
    "pwd.append(rand_symbols)\n",
    "print(\"Your password is:\",*pwd,sep='')"
   ]
  },
  {
   "cell_type": "code",
   "execution_count": 1,
   "id": "2c1b9211",
   "metadata": {},
   "outputs": [
    {
     "name": "stdout",
     "output_type": "stream",
     "text": [
      "Guess the Animals!!!\n",
      " What is the name of the fastest land animal?\n",
      "cheetah\n",
      "What’s the only mammal that’s able to fly?\n",
      "crow\n",
      "sorry wrong answer,Try again!\n",
      "Bat\n",
      "What is the only mammals that can’t jump?\n",
      "elephant\n",
      " What animal is the largest mammal in the world?\n",
      "sword fish\n",
      "sorry wrong answer,Try again!\n",
      "whale\n",
      "sorry wrong answer,Try again!\n",
      "rabbit\n",
      "What animal eats mainly bamboo?\n",
      "panda\n",
      "Your score is: 4\n"
     ]
    }
   ],
   "source": [
    "def quiz_score():\n",
    " score=0\n",
    " \n",
    " for k in question_bank:\n",
    "  attempt=0 \n",
    "  print(k)\n",
    "  answer=input()\n",
    "  if(answer.lower()==question_bank[k]):\n",
    "   score=score+1\n",
    "  else:\n",
    "   while(attempt<2):\n",
    "    print('sorry wrong answer,Try again!')\n",
    "    answer1=input()\n",
    "    attempt=attempt+1\n",
    "    if(answer1.lower()==question_bank[k]):\n",
    "     score=score+1\n",
    "     attempt=2\n",
    "  \n",
    " return(score)\n",
    "      \n",
    "       \n",
    "print('Guess the Animals!!!')\n",
    "\n",
    "question_bank={' What is the name of the fastest land animal?':'cheetah','What’s the only mammal that’s able to fly?':'bat','What is the only mammals that can’t jump?':'elephant',' What animal is the largest mammal in the world?':'blue whale','What animal eats mainly bamboo?':'panda'}\n",
    "result=quiz_score()\n",
    "print('Your score is:',result)\n"
   ]
  },
  {
   "cell_type": "code",
   "execution_count": null,
   "id": "c866665b",
   "metadata": {},
   "outputs": [],
   "source": []
  },
  {
   "cell_type": "code",
   "execution_count": null,
   "id": "980d1620",
   "metadata": {},
   "outputs": [],
   "source": []
  }
 ],
 "metadata": {
  "kernelspec": {
   "display_name": "Python 3",
   "language": "python",
   "name": "python3"
  },
  "language_info": {
   "codemirror_mode": {
    "name": "ipython",
    "version": 3
   },
   "file_extension": ".py",
   "mimetype": "text/x-python",
   "name": "python",
   "nbconvert_exporter": "python",
   "pygments_lexer": "ipython3",
   "version": "3.8.8"
  }
 },
 "nbformat": 4,
 "nbformat_minor": 5
}
